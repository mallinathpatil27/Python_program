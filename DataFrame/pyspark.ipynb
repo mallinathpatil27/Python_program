{
 "cells": [
  {
   "cell_type": "code",
   "execution_count": 1,
   "id": "cbf3eab4",
   "metadata": {},
   "outputs": [],
   "source": [
    "from pyspark.sql import *\n",
    "from pyspark.sql.functions import *\n",
    "import re\n",
    "spark = SparkSession.builder.master(\"local\").appName(\"test\").getOrCreate()"
   ]
  },
  {
   "cell_type": "code",
   "execution_count": 2,
   "id": "89d6eb8d",
   "metadata": {},
   "outputs": [
    {
     "name": "stdout",
     "output_type": "stream",
     "text": [
      "+---+------------+-------+---------+-------+-------+-------+----+-------+---+-----+--------+--------+-----+--------+--------+---+\n",
      "|age|         job|marital|education|default|balance|housing|loan|contact|day|month|duration|campaign|pdays|previous|poutcome|  y|\n",
      "+---+------------+-------+---------+-------+-------+-------+----+-------+---+-----+--------+--------+-----+--------+--------+---+\n",
      "| 58|  management|married| tertiary|     no|   2143|    yes|  no|unknown|  5|  may|     261|       1|   -1|       0| unknown| no|\n",
      "| 44|  technician| single|secondary|     no|     29|    yes|  no|unknown|  5|  may|     151|       1|   -1|       0| unknown| no|\n",
      "| 33|entrepreneur|married|secondary|     no|      2|    yes| yes|unknown|  5|  may|      76|       1|   -1|       0| unknown| no|\n",
      "| 47| blue-collar|married|  unknown|     no|   1506|    yes|  no|unknown|  5|  may|      92|       1|   -1|       0| unknown| no|\n",
      "| 33|     unknown| single|  unknown|     no|      1|     no|  no|unknown|  5|  may|     198|       1|   -1|       0| unknown| no|\n",
      "+---+------------+-------+---------+-------+-------+-------+----+-------+---+-----+--------+--------+-----+--------+--------+---+\n",
      "only showing top 5 rows\n",
      "\n"
     ]
    }
   ],
   "source": [
    "data=\"D:\\\\datasets\\\\bank-full.csv\"\n",
    "df=spark.read.format(\"csv\").option(\"header\",\"true\").option(\"inferSchema\",\"True\").option(\"sep\",\";\").load(data)\n",
    "df.show(5)"
   ]
  },
  {
   "cell_type": "code",
   "execution_count": 20,
   "id": "a11a099f",
   "metadata": {},
   "outputs": [],
   "source": [
    "data=\"D:\\\\datasets\\\\donations.csv\"\n",
    "sc = spark.sparkContext\n",
    "# rdd= sc.textFile(data)\n",
    "# skip=rdd.first\n",
    "# res=rdd.map(lambda x: x != skip)\n",
    "# for i in res:\n",
    "#     print(i)\n",
    "\n"
   ]
  },
  {
   "cell_type": "code",
   "execution_count": 26,
   "id": "c55c6494",
   "metadata": {},
   "outputs": [
    {
     "name": "stdout",
     "output_type": "stream",
     "text": [
      "+------+----------+\n",
      "|  name|        dt|\n",
      "+------+----------+\n",
      "|  venu| 10-1-2021|\n",
      "|  venu| 11-3-2021|\n",
      "|   anu|12-12-2021|\n",
      "|  venu|18-11-2021|\n",
      "|venkat|10-10-2021|\n",
      "|venkat| 20-9-2021|\n",
      "|  venu|30-10-2021|\n",
      "|   anu| 10-8-2021|\n",
      "|  sita| 10-7-2020|\n",
      "|  venu| 19-5-2021|\n",
      "|  sita| 10-6-2021|\n",
      "|  venu| 21-4-2021|\n",
      "|venkat|  1-3-2021|\n",
      "|  venu| 27-2-2020|\n",
      "|  venu| 27-2-2021|\n",
      "|  venu| 20-4-2021|\n",
      "+------+----------+\n",
      "\n"
     ]
    }
   ],
   "source": [
    "data=\"D:\\\\datasets\\\\donations.csv\"\n",
    "rdd=spark.read.format(\"csv\").option(\"header\",\"true\").load(data) #creating a dataframe\n",
    "rdd.createOrReplaceTempView(\"tab\")  #creating a sql table \n",
    "df1=spark.sql(\"select name,dt from tab\")  #querying the sql statment\n",
    "df1.show()"
   ]
  },
  {
   "cell_type": "code",
   "execution_count": 29,
   "id": "7f6e2f42",
   "metadata": {},
   "outputs": [
    {
     "name": "stdout",
     "output_type": "stream",
     "text": [
      "('java', 20000)\n",
      "('scala', 30000)\n",
      "('python', 40000)\n"
     ]
    }
   ],
   "source": [
    "sc = spark.sparkContext\n",
    "data=[(\"java\",20000),(\"scala\",30000),(\"python\",40000)]\n",
    "rdd=sc.parallelize(data)\n",
    "for i in rdd.collect():   #we cannot display the rdd object until some action is performed \n",
    "    print(i)"
   ]
  },
  {
   "cell_type": "code",
   "execution_count": 2,
   "id": "63416ff3",
   "metadata": {},
   "outputs": [
    {
     "name": "stdout",
     "output_type": "stream",
     "text": [
      "root\n",
      " |-- language: string (nullable = true)\n",
      " |-- users_count: long (nullable = true)\n",
      "\n"
     ]
    }
   ],
   "source": [
    "sc = spark.sparkContext\n",
    "data=[(\"java\",20000),(\"scala\",30000),(\"python\",40000)]\n",
    "rdd=sc.parallelize(data)\n",
    "columns = [\"language\",\"users_count\"]\n",
    "dfFromRDD1 = rdd.toDF(columns)  #creating a data frame from existing rdd\n",
    "dfFromRDD1.printSchema()"
   ]
  },
  {
   "cell_type": "code",
   "execution_count": 3,
   "id": "a0b90cfe",
   "metadata": {},
   "outputs": [
    {
     "name": "stdout",
     "output_type": "stream",
     "text": [
      "+--------+-----------+\n",
      "|language|users_count|\n",
      "+--------+-----------+\n",
      "|    java|      20000|\n",
      "|   scala|      30000|\n",
      "|  python|      40000|\n",
      "+--------+-----------+\n",
      "\n"
     ]
    }
   ],
   "source": [
    "df=spark.createDataFrame(rdd).toDF(*columns) #creating rdd from creatdataframe and assiagning differnt column names\n",
    "df.show()"
   ]
  },
  {
   "cell_type": "code",
   "execution_count": 8,
   "id": "aa4e96c9",
   "metadata": {},
   "outputs": [
    {
     "name": "stdout",
     "output_type": "stream",
     "text": [
      "+-------+-----+--------+-------+---+------+\n",
      "|  fname|mname|   lname|pincode|sex|salary|\n",
      "+-------+-----+--------+-------+---+------+\n",
      "|  James|     |   Smith|  36636|  M|  3000|\n",
      "|Michael| Rose|        |  40288|  M|  4000|\n",
      "| Robert|     |Williams|  42114|  M|  4000|\n",
      "|  Maria| Anne|   Jones|  39192|  F|  4000|\n",
      "|    Jen| Mary|   Brown|       |  F|    -1|\n",
      "+-------+-----+--------+-------+---+------+\n",
      "\n"
     ]
    }
   ],
   "source": [
    "data2 = [(\"James\",\"\",\"Smith\",\"36636\",\"M\",3000), #creating the dataframe from the list and tuples\n",
    "    (\"Michael\",\"Rose\",\"\",\"40288\",\"M\",4000),\n",
    "    (\"Robert\",\"\",\"Williams\",\"42114\",\"M\",4000),\n",
    "    (\"Maria\",\"Anne\",\"Jones\",\"39192\",\"F\",4000),\n",
    "    (\"Jen\",\"Mary\",\"Brown\",\"\",\"F\",-1)\n",
    "  ]\n",
    "columns=[\"fname\",\"mname\",\"lname\",\"pincode\",\"sex\",\"salary\"]\n",
    "df=spark.createDataFrame(data2,columns)\n",
    "df.show()"
   ]
  },
  {
   "cell_type": "code",
   "execution_count": 17,
   "id": "c3b9ab1e",
   "metadata": {},
   "outputs": [],
   "source": [
    "data3=\"D:\\\\datasets\\\\bank-full.csv\"\n",
    "# rdd=sc.parallize\n",
    "df=spark.read.format(\"csv\").option(\"header\",\"true\").load(data)\n",
    "# df.show()\n"
   ]
  },
  {
   "cell_type": "code",
   "execution_count": 38,
   "id": "5dcadaaf",
   "metadata": {},
   "outputs": [
    {
     "name": "stdout",
     "output_type": "stream",
     "text": [
      "+--------+--------+------------+------------+\n",
      "| marital|count(1)|sum(balance)|max(balance)|\n",
      "+--------+--------+------------+------------+\n",
      "|divorced|    5207|     6138388|       66721|\n",
      "| married|   27214|    38805139|       98417|\n",
      "|  single|   12790|    16646155|      102127|\n",
      "+--------+--------+------------+------------+\n",
      "\n",
      "root\n",
      " |-- age: integer (nullable = true)\n",
      " |-- job: string (nullable = true)\n",
      " |-- marital: string (nullable = true)\n",
      " |-- education: string (nullable = true)\n",
      " |-- default: string (nullable = true)\n",
      " |-- balance: integer (nullable = true)\n",
      " |-- housing: string (nullable = true)\n",
      " |-- loan: string (nullable = true)\n",
      " |-- contact: string (nullable = true)\n",
      " |-- day: integer (nullable = true)\n",
      " |-- month: string (nullable = true)\n",
      " |-- duration: integer (nullable = true)\n",
      " |-- campaign: integer (nullable = true)\n",
      " |-- pdays: integer (nullable = true)\n",
      " |-- previous: integer (nullable = true)\n",
      " |-- poutcome: string (nullable = true)\n",
      " |-- y: string (nullable = true)\n",
      "\n"
     ]
    }
   ],
   "source": [
    "data=\"D:\\\\datasets\\\\bank-full.csv\"\n",
    "# df=spark.read.format(\"csv\").option(\"header\",\"true\").option(\"inferSchema\",\"True\").option(\"sep\",\";\").load(data)\n",
    "df=spark.read.format(\"csv\").option(\"header\",\"true\").option(\"inferSchema\",\"true\").option(\"sep\",\";\").load(data)\n",
    "df1=df.groupby(df[\"marital\"]).agg(count(\"*\"),sum(\"balance\"),max(\"balance\"))\n",
    "df1.show()\n",
    "df.printSchema()"
   ]
  },
  {
   "cell_type": "code",
   "execution_count": 40,
   "id": "3bd0b807",
   "metadata": {},
   "outputs": [
    {
     "name": "stdout",
     "output_type": "stream",
     "text": [
      "+----------+---------+--------------------+--------------------+-------------+--------------+-----+-----+------------+------------+--------------------+--------------------+\n",
      "|first_name|last_name|        company_name|             address|         city|        county|state|  zip|      phone1|      phone2|               email|                 web|\n",
      "+----------+---------+--------------------+--------------------+-------------+--------------+-----+-----+------------+------------+--------------------+--------------------+\n",
      "|     James|     Butt|   Benton, John B Jr|  6649 N Blue Gum St|  New Orleans|       Orleans|   LA|70116|504-621-8927|504-845-1427|     jbutt@gmail.com|http://www.benton...|\n",
      "| Josephine|  Darakjy|Chanay, Jeffrey A...| 4 B Blue Ridge Blvd|     Brighton|    Livingston|   MI|48116|810-292-9388|810-374-9840|josephine_darakjy...|http://www.chanay...|\n",
      "|       Art|   Venere| Chemel, James L Cpa|8 W Cerritos Ave #54|   Bridgeport|    Gloucester|   NJ| 8014|856-636-8749|856-264-4130|      art@venere.org|http://www.chemel...|\n",
      "|     Lenna| Paprocki|Feltz Printing Se...|         639 Main St|    Anchorage|     Anchorage|   AK|99501|907-385-4412|907-921-2010|lpaprocki@hotmail...|http://www.feltzp...|\n",
      "|   Donette|   Foller| Printing Dimensions|        34 Center St|     Hamilton|        Butler|   OH|45011|513-570-1893|513-549-4561|donette.foller@co...|http://www.printi...|\n",
      "|    Simona|  Morasca| Chapman, Ross E Esq|        3 Mcauley Dr|      Ashland|       Ashland|   OH|44805|419-503-2484|419-800-6759|  simona@morasca.com|http://www.chapma...|\n",
      "|    Mitsue|  Tollner|  Morlong Associates|           7 Eads St|      Chicago|          Cook|   IL|60632|773-573-6914|773-924-8565|mitsue_tollner@ya...|http://www.morlon...|\n",
      "|     Leota| Dilliard|    Commercial Press|    7 W Jackson Blvd|     San Jose|   Santa Clara|   CA|95111|408-752-3500|408-813-1105|   leota@hotmail.com|http://www.commer...|\n",
      "|      Sage|   Wieser|Truhlar And Truhl...|    5 Boston Ave #88|  Sioux Falls|     Minnehaha|   SD|57105|605-414-2147|605-794-4895| sage_wieser@cox.net|http://www.truhla...|\n",
      "|      Kris|  Marrier|King, Christopher...|228 Runamuck Pl #...|    Baltimore|Baltimore City|   MD|21224|410-655-8723|410-804-4694|      kris@gmail.com|http://www.kingch...|\n",
      "|     Minna|   Amigon|   Dorl, James J Esq|    2371 Jerrold Ave|   Kulpsville|    Montgomery|   PA|19443|215-874-1229|215-422-8694|minna_amigon@yaho...|http://www.dorlja...|\n",
      "|      Abel|  Maclead| Rangoni Of Florence|  37275 St  Rt 17m M|Middle Island|       Suffolk|   NY|11953|631-335-3414|631-677-3675|  amaclead@gmail.com|http://www.rangon...|\n",
      "|     Kiley|Caldarera|         Feiner Bros|    25 E 75th St #69|  Los Angeles|   Los Angeles|   CA|90034|310-498-5651|310-254-3084|kiley.caldarera@a...|http://www.feiner...|\n",
      "|  Graciela|     Ruta|Buckley Miller & ...|98 Connecticut Av...|Chagrin Falls|        Geauga|   OH|44023|440-780-8425|440-579-7763|       gruta@cox.net|http://www.buckle...|\n",
      "|     Cammy|  Albares|Rousseaux, Michae...|    56 E Morehead St|       Laredo|          Webb|   TX|78045|956-537-6195|956-841-7216|  calbares@gmail.com|http://www.rousse...|\n",
      "|    Mattie| Poquette|Century Communica...| 73 State Road 434 E|      Phoenix|      Maricopa|   AZ|85013|602-277-4385|602-953-6360|      mattie@aol.com|http://www.centur...|\n",
      "|   Meaghan|   Garufi|  Bolton, Wilbur Esq| 69734 E Carrillo St| Mc Minnville|        Warren|   TN|37110|931-313-9635|931-235-7959| meaghan@hotmail.com|http://www.bolton...|\n",
      "|    Gladys|      Rim|T M Byxbee Compan...|322 New Horizon Blvd|    Milwaukee|     Milwaukee|   WI|53207|414-661-9598|414-377-2880|  gladys.rim@rim.org|http://www.tmbyxb...|\n",
      "|      Yuki|  Whobrey|Farmers Insurance...|    1 State Route 27|       Taylor|         Wayne|   MI|48180|313-288-7937|313-341-4470|yuki_whobrey@aol.com|http://www.farmer...|\n",
      "|  Fletcher|    Flosi|Post Box Services...| 394 Manchester Blvd|     Rockford|     Winnebago|   IL|61109|815-828-2147|815-426-5657|fletcher.flosi@ya...|http://www.postbo...|\n",
      "+----------+---------+--------------------+--------------------+-------------+--------------+-----+-----+------------+------------+--------------------+--------------------+\n",
      "only showing top 20 rows\n",
      "\n"
     ]
    }
   ],
   "source": [
    "data=\"D:\\\\datasets\\\\us-500.csv\"\n",
    "# df=spark.read.format(\"csv\").option(\"header\",\"true\").option(\"inferSchema\",\"true\").load(data)\n",
    "df=spark.read.format(\"csv\").option(\"header\",\"true\").option(\"inferSchema\",\"true\").load(data)\n",
    "df.show()\n"
   ]
  },
  {
   "cell_type": "code",
   "execution_count": 78,
   "id": "5cabf0de",
   "metadata": {},
   "outputs": [
    {
     "name": "stdout",
     "output_type": "stream",
     "text": [
      "+---------+---------+-----+----------+----------+--------------------+-----------------+-----------+-----------------+\n",
      "|    fname|last_name|state|    phone1|    phone2|               email|         fullname|      gmail|           gmail1|\n",
      "+---------+---------+-----+----------+----------+--------------------+-----------------+-----------+-----------------+\n",
      "|    James|     Butt|   LA|5046218927|5048451427|     jbutt@gmail.com|       James_Butt|  gmail.com|            jbutt|\n",
      "|Josephine|  Darakjy|   MI|8102929388|8103749840|josephine_darakjy...|Josephine_Darakjy|darakjy.org|josephine_darakjy|\n",
      "|      Art|   Venere|   NJ|8566368749|8562644130|      art@venere.org|       Art_Venere| venere.org|              art|\n",
      "|    Lenna| Paprocki|   AK|9073854412|9079212010|lpaprocki@hotmail...|   Lenna_Paprocki|hotmail.com|        lpaprocki|\n",
      "|  Donette|   Foller|   OH|5135701893|5135494561|donette.foller@co...|   Donette_Foller|    cox.net|   donette.foller|\n",
      "|   Simona|  Morasca|   OH|4195032484|4198006759|  simona@morasca.com|   Simona_Morasca|morasca.com|           simona|\n",
      "|   Mitsue|  Tollner|   IL|7735736914|7739248565|mitsue_tollner@ya...|   Mitsue_Tollner|  yahoo.com|   mitsue_tollner|\n",
      "|    Leota| Dilliard|   CA|4087523500|4088131105|   leota@hotmail.com|   Leota_Dilliard|hotmail.com|            leota|\n",
      "|     Sage|   Wieser|   SD|6054142147|6057944895| sage_wieser@cox.net|      Sage_Wieser|    cox.net|      sage_wieser|\n",
      "|     Kris|  Marrier|   MD|4106558723|4108044694|      kris@gmail.com|     Kris_Marrier|  gmail.com|             kris|\n",
      "|    Minna|   Amigon|   PA|2158741229|2154228694|minna_amigon@yaho...|     Minna_Amigon|  yahoo.com|     minna_amigon|\n",
      "|     Abel|  Maclead|   NY|6313353414|6316773675|  amaclead@gmail.com|     Abel_Maclead|  gmail.com|         amaclead|\n",
      "|    Kiley|Caldarera|   CA|3104985651|3102543084|kiley.caldarera@a...|  Kiley_Caldarera|    aol.com|  kiley.caldarera|\n",
      "| Graciela|     Ruta|   OH|4407808425|4405797763|       gruta@cox.net|    Graciela_Ruta|    cox.net|            gruta|\n",
      "|    Cammy|  Albares|   TX|9565376195|9568417216|  calbares@gmail.com|    Cammy_Albares|  gmail.com|         calbares|\n",
      "|   Mattie| Poquette|   AZ|6022774385|6029536360|      mattie@aol.com|  Mattie_Poquette|    aol.com|           mattie|\n",
      "|  Meaghan|   Garufi|   TN|9313139635|9312357959| meaghan@hotmail.com|   Meaghan_Garufi|hotmail.com|          meaghan|\n",
      "|   Gladys|      Rim|   WI|4146619598|4143772880|  gladys.rim@rim.org|       Gladys_Rim|    rim.org|       gladys.rim|\n",
      "|     Yuki|  Whobrey|   MI|3132887937|3133414470|yuki_whobrey@aol.com|     Yuki_Whobrey|    aol.com|     yuki_whobrey|\n",
      "| Fletcher|    Flosi|   IL|8158282147|8154265657|fletcher.flosi@ya...|   Fletcher_Flosi|  yahoo.com|   fletcher.flosi|\n",
      "+---------+---------+-----+----------+----------+--------------------+-----------------+-----------+-----------------+\n",
      "only showing top 20 rows\n",
      "\n"
     ]
    }
   ],
   "source": [
    "# ndf=df.withColumn(\"fullname\", concat_ws(\"_\",df.first_name, df.last_name, df.state))\\\n",
    "#     .withColumn(\"phone1\",regexp_replace(col(\"phone1\"),\"-\",\"\").cast(LongType()))\\\n",
    "#     .withColumn(\"phone2\",regexp_replace(col(\"phone2\"),\"-\",\"\").cast(LongType()))\\\n",
    "#     .drop(\"email\",\"web\",\"city\",\"country\",\"address\")\\\n",
    "#     .withColumnRenamed(\"first_name\",\"fname\").withColumnRenamed(\"last_name\",\"lname\")\n",
    "df2=df.drop(\"web\",\"county\",\"company_name\")\n",
    "\n",
    "# df1=df2.withColumn(\"fname\",concat(\" \",df.first_name,df.last_name))\n",
    "# df1=df2.withColumn(\"fullname\",concat_ws(\"_\",df.first_name,df.last_name,df.state))\\\n",
    "#       .withColumnRenamed(\"first_name\",\"fname\").withColumnRenamed(\"last_name\",\"lname\")\n",
    "ndf=df2.withColumn(\"fullname\",concat_ws(\"_\",df2.first_name,df2.last_name)).withColumnRenamed(\"first_name\",\"fname\")\\\n",
    ".withColumn(\"phone1\",regexp_replace(df2.phone1,\"-\",\"\")).withColumn(\"phone2\",regexp_replace(df2.phone2,\"-\",\"\"))\\\n",
    ".withColumn(\"gmail\",substring_index(\"email\",\"@\",-1)).withColumn(\"gmail1\",substring_index(\"email\",\"@\",1)).drop(\"zip\",\"city\",\"address\")\n",
    "ndf.show()"
   ]
  },
  {
   "cell_type": "code",
   "execution_count": 1,
   "id": "06c18440",
   "metadata": {},
   "outputs": [],
   "source": [
    "from pyspark.sql import *\n",
    "from pyspark.sql.functions import *\n",
    "import re\n",
    "spark = SparkSession.builder.master(\"local\").appName(\"test\").getOrCreate()"
   ]
  },
  {
   "cell_type": "code",
   "execution_count": 4,
   "id": "aee7aba0",
   "metadata": {},
   "outputs": [
    {
     "name": "stdout",
     "output_type": "stream",
     "text": [
      "+----------+---------+--------------------+--------------------+-------------+--------------+-----+-----+------------+------------+--------------------+--------------------+\n",
      "|first_name|last_name|        company_name|             address|         city|        county|state|  zip|      phone1|      phone2|               email|                 web|\n",
      "+----------+---------+--------------------+--------------------+-------------+--------------+-----+-----+------------+------------+--------------------+--------------------+\n",
      "|     James|     Butt|   Benton, John B Jr|  6649 N Blue Gum St|  New Orleans|       Orleans|   LA|70116|504-621-8927|504-845-1427|     jbutt@gmail.com|http://www.benton...|\n",
      "| Josephine|  Darakjy|Chanay, Jeffrey A...| 4 B Blue Ridge Blvd|     Brighton|    Livingston|   MI|48116|810-292-9388|810-374-9840|josephine_darakjy...|http://www.chanay...|\n",
      "|       Art|   Venere| Chemel, James L Cpa|8 W Cerritos Ave #54|   Bridgeport|    Gloucester|   NJ| 8014|856-636-8749|856-264-4130|      art@venere.org|http://www.chemel...|\n",
      "|     Lenna| Paprocki|Feltz Printing Se...|         639 Main St|    Anchorage|     Anchorage|   AK|99501|907-385-4412|907-921-2010|lpaprocki@hotmail...|http://www.feltzp...|\n",
      "|   Donette|   Foller| Printing Dimensions|        34 Center St|     Hamilton|        Butler|   OH|45011|513-570-1893|513-549-4561|donette.foller@co...|http://www.printi...|\n",
      "|    Simona|  Morasca| Chapman, Ross E Esq|        3 Mcauley Dr|      Ashland|       Ashland|   OH|44805|419-503-2484|419-800-6759|  simona@morasca.com|http://www.chapma...|\n",
      "|    Mitsue|  Tollner|  Morlong Associates|           7 Eads St|      Chicago|          Cook|   IL|60632|773-573-6914|773-924-8565|mitsue_tollner@ya...|http://www.morlon...|\n",
      "|     Leota| Dilliard|    Commercial Press|    7 W Jackson Blvd|     San Jose|   Santa Clara|   CA|95111|408-752-3500|408-813-1105|   leota@hotmail.com|http://www.commer...|\n",
      "|      Sage|   Wieser|Truhlar And Truhl...|    5 Boston Ave #88|  Sioux Falls|     Minnehaha|   SD|57105|605-414-2147|605-794-4895| sage_wieser@cox.net|http://www.truhla...|\n",
      "|      Kris|  Marrier|King, Christopher...|228 Runamuck Pl #...|    Baltimore|Baltimore City|   MD|21224|410-655-8723|410-804-4694|      kris@gmail.com|http://www.kingch...|\n",
      "|     Minna|   Amigon|   Dorl, James J Esq|    2371 Jerrold Ave|   Kulpsville|    Montgomery|   PA|19443|215-874-1229|215-422-8694|minna_amigon@yaho...|http://www.dorlja...|\n",
      "|      Abel|  Maclead| Rangoni Of Florence|  37275 St  Rt 17m M|Middle Island|       Suffolk|   NY|11953|631-335-3414|631-677-3675|  amaclead@gmail.com|http://www.rangon...|\n",
      "|     Kiley|Caldarera|         Feiner Bros|    25 E 75th St #69|  Los Angeles|   Los Angeles|   CA|90034|310-498-5651|310-254-3084|kiley.caldarera@a...|http://www.feiner...|\n",
      "|  Graciela|     Ruta|Buckley Miller & ...|98 Connecticut Av...|Chagrin Falls|        Geauga|   OH|44023|440-780-8425|440-579-7763|       gruta@cox.net|http://www.buckle...|\n",
      "|     Cammy|  Albares|Rousseaux, Michae...|    56 E Morehead St|       Laredo|          Webb|   TX|78045|956-537-6195|956-841-7216|  calbares@gmail.com|http://www.rousse...|\n",
      "|    Mattie| Poquette|Century Communica...| 73 State Road 434 E|      Phoenix|      Maricopa|   AZ|85013|602-277-4385|602-953-6360|      mattie@aol.com|http://www.centur...|\n",
      "|   Meaghan|   Garufi|  Bolton, Wilbur Esq| 69734 E Carrillo St| Mc Minnville|        Warren|   TN|37110|931-313-9635|931-235-7959| meaghan@hotmail.com|http://www.bolton...|\n",
      "|    Gladys|      Rim|T M Byxbee Compan...|322 New Horizon Blvd|    Milwaukee|     Milwaukee|   WI|53207|414-661-9598|414-377-2880|  gladys.rim@rim.org|http://www.tmbyxb...|\n",
      "|      Yuki|  Whobrey|Farmers Insurance...|    1 State Route 27|       Taylor|         Wayne|   MI|48180|313-288-7937|313-341-4470|yuki_whobrey@aol.com|http://www.farmer...|\n",
      "|  Fletcher|    Flosi|Post Box Services...| 394 Manchester Blvd|     Rockford|     Winnebago|   IL|61109|815-828-2147|815-426-5657|fletcher.flosi@ya...|http://www.postbo...|\n",
      "+----------+---------+--------------------+--------------------+-------------+--------------+-----+-----+------------+------------+--------------------+--------------------+\n",
      "only showing top 20 rows\n",
      "\n"
     ]
    }
   ],
   "source": [
    "data3=\"D:\\\\datasets\\\\us-500.csv\"\n",
    "df=spark.read.format(\"csv\").option(\"header\",\"true\").option(\"inferSchema\",\"true\").load(data3)\n",
    "df.show()"
   ]
  },
  {
   "cell_type": "code",
   "execution_count": 9,
   "id": "fc4b6b2b",
   "metadata": {},
   "outputs": [
    {
     "name": "stdout",
     "output_type": "stream",
     "text": [
      "+----------+---------+--------------------+--------------------+-----+------------+------------+--------------------+--------------------+------+\n",
      "|first_name|last_name|        company_name|             address|state|      phone1|      phone2|               email|                 web|   age|\n",
      "+----------+---------+--------------------+--------------------+-----+------------+------------+--------------------+--------------------+------+\n",
      "|     James|     Butt|   Benton, John B Jr|  6649 N Blue Gum St|   LA|504-621-8927|504-845-1427|     jbutt@gmail.com|http://www.benton...|string|\n",
      "| Josephine|  Darakjy|Chanay, Jeffrey A...| 4 B Blue Ridge Blvd|   MI|810-292-9388|810-374-9840|josephine_darakjy...|http://www.chanay...|string|\n",
      "|       Art|   Venere| Chemel, James L Cpa|8 W Cerritos Ave #54|   NJ|856-636-8749|856-264-4130|      art@venere.org|http://www.chemel...|string|\n",
      "|     Lenna| Paprocki|Feltz Printing Se...|         639 Main St|   AK|907-385-4412|907-921-2010|lpaprocki@hotmail...|http://www.feltzp...|string|\n",
      "|   Donette|   Foller| Printing Dimensions|        34 Center St|   OH|513-570-1893|513-549-4561|donette.foller@co...|http://www.printi...|string|\n",
      "|    Simona|  Morasca| Chapman, Ross E Esq|        3 Mcauley Dr|   OH|419-503-2484|419-800-6759|  simona@morasca.com|http://www.chapma...|string|\n",
      "|    Mitsue|  Tollner|  Morlong Associates|           7 Eads St|   IL|773-573-6914|773-924-8565|mitsue_tollner@ya...|http://www.morlon...|string|\n",
      "|     Leota| Dilliard|    Commercial Press|    7 W Jackson Blvd|   CA|408-752-3500|408-813-1105|   leota@hotmail.com|http://www.commer...|string|\n",
      "|      Sage|   Wieser|Truhlar And Truhl...|    5 Boston Ave #88|   SD|605-414-2147|605-794-4895| sage_wieser@cox.net|http://www.truhla...|string|\n",
      "|      Kris|  Marrier|King, Christopher...|228 Runamuck Pl #...|   MD|410-655-8723|410-804-4694|      kris@gmail.com|http://www.kingch...|string|\n",
      "|     Minna|   Amigon|   Dorl, James J Esq|    2371 Jerrold Ave|   PA|215-874-1229|215-422-8694|minna_amigon@yaho...|http://www.dorlja...|string|\n",
      "|      Abel|  Maclead| Rangoni Of Florence|  37275 St  Rt 17m M|   NY|631-335-3414|631-677-3675|  amaclead@gmail.com|http://www.rangon...|string|\n",
      "|     Kiley|Caldarera|         Feiner Bros|    25 E 75th St #69|   CA|310-498-5651|310-254-3084|kiley.caldarera@a...|http://www.feiner...|string|\n",
      "|  Graciela|     Ruta|Buckley Miller & ...|98 Connecticut Av...|   OH|440-780-8425|440-579-7763|       gruta@cox.net|http://www.buckle...|string|\n",
      "|     Cammy|  Albares|Rousseaux, Michae...|    56 E Morehead St|   TX|956-537-6195|956-841-7216|  calbares@gmail.com|http://www.rousse...|string|\n",
      "|    Mattie| Poquette|Century Communica...| 73 State Road 434 E|   AZ|602-277-4385|602-953-6360|      mattie@aol.com|http://www.centur...|string|\n",
      "|   Meaghan|   Garufi|  Bolton, Wilbur Esq| 69734 E Carrillo St|   TN|931-313-9635|931-235-7959| meaghan@hotmail.com|http://www.bolton...|string|\n",
      "|    Gladys|      Rim|T M Byxbee Compan...|322 New Horizon Blvd|   WI|414-661-9598|414-377-2880|  gladys.rim@rim.org|http://www.tmbyxb...|string|\n",
      "|      Yuki|  Whobrey|Farmers Insurance...|    1 State Route 27|   MI|313-288-7937|313-341-4470|yuki_whobrey@aol.com|http://www.farmer...|string|\n",
      "|  Fletcher|    Flosi|Post Box Services...| 394 Manchester Blvd|   IL|815-828-2147|815-426-5657|fletcher.flosi@ya...|http://www.postbo...|string|\n",
      "+----------+---------+--------------------+--------------------+-----+------------+------------+--------------------+--------------------+------+\n",
      "only showing top 20 rows\n",
      "\n"
     ]
    }
   ],
   "source": [
    "res=df.withColumn(\"age\",lit(\"string\")).drop(\"zip\",\"county\",\"city\")\n",
    "res.show()"
   ]
  },
  {
   "cell_type": "markdown",
   "id": "acd908d0",
   "metadata": {},
   "source": [
    "# 22-08-2022\n"
   ]
  },
  {
   "cell_type": "code",
   "execution_count": 3,
   "id": "285480ac",
   "metadata": {},
   "outputs": [
    {
     "name": "stdout",
     "output_type": "stream",
     "text": [
      "+----+---------+------+----------+\n",
      "|name|       dt|amount|     today|\n",
      "+----+---------+------+----------+\n",
      "|venu|10-1-2021|  1000|2022-08-24|\n",
      "|venu|11-3-2021|  5000|2022-08-24|\n",
      "+----+---------+------+----------+\n",
      "\n"
     ]
    }
   ],
   "source": [
    "from pyspark.sql import *\n",
    "from pyspark.sql.functions import *\n",
    "\n",
    "spark = SparkSession.builder.master(\"local\").appName(\"test\").getOrCreate()\n",
    "data=\"D:\\\\datasets\\\\donations.csv\"\n",
    "# df=spark.read.format(\"csv\").option(\"header\",\"true\").option(\"inferSchema\",\"True\").option(\"sep\",\";\").load(data)\n",
    "df=spark.read.format(\"csv\").option(\"header\",\"true\").option(\"inferSchema\",\"true\").load(data)\n",
    "# df.show()\n",
    "df.createOrReplaceTempView(\"tab\")\n",
    "res=spark.sql(\"select *,current_date() today from tab limit 2\")\n",
    "res.show()"
   ]
  },
  {
   "cell_type": "code",
   "execution_count": null,
   "id": "09e453d9",
   "metadata": {},
   "outputs": [],
   "source": [
    "#by default date formate in spark is yyyy-mm-dd\n",
    "res1=df.withColumn()"
   ]
  }
 ],
 "metadata": {
  "kernelspec": {
   "display_name": "Python 3 (ipykernel)",
   "language": "python",
   "name": "python3"
  },
  "language_info": {
   "codemirror_mode": {
    "name": "ipython",
    "version": 3
   },
   "file_extension": ".py",
   "mimetype": "text/x-python",
   "name": "python",
   "nbconvert_exporter": "python",
   "pygments_lexer": "ipython3",
   "version": "3.9.12"
  }
 },
 "nbformat": 4,
 "nbformat_minor": 5
}
